{
 "cells": [
  {
   "cell_type": "code",
   "execution_count": 1,
   "id": "sharing-innocent",
   "metadata": {},
   "outputs": [],
   "source": [
    "import sys, os\n",
    "sys.path.append(\"../iotools/\")\n",
    "import readgtf\n",
    "from collections import defaultdict\n",
    "import pandas as pd\n",
    "import argparse\n",
    "import re"
   ]
  },
  {
   "cell_type": "code",
   "execution_count": 2,
   "id": "intimate-angel",
   "metadata": {},
   "outputs": [
    {
     "name": "stdout",
     "output_type": "stream",
     "text": [
      "Reading GENCODE file\n"
     ]
    }
   ],
   "source": [
    "def filter_donors(df, donors):\n",
    "    donor_list = df.columns\n",
    "    common  = [x for x in donors if x in donor_list]\n",
    "    print(\"{:d} donors remained from {:d}\".format(len(common), len(donor_list)))\n",
    "    return df[common]\n",
    "\n",
    "def filter_rows(df, genedict):\n",
    "    gx_gene_list = df.index\n",
    "    common  = [genedict[x] for x in gx_gene_list]\n",
    "    print(\"{:d} genes remained from {:d}\".format(sum(common), len(gx_gene_list)))\n",
    "    return df[common]\n",
    "\n",
    "\n",
    "# gx_file = \"/cbscratch/franco/trans-eqtl/new_preprocess_feb2020_freeze/gtex_v8/expression/tpms/wb_tpms_qcfilter.txt.protein_coding_lncRNA_filtered\"\n",
    "gx_file = \"/cbscratch/franco/datasets/gtex_v8/expression/TPMs_phASER_GTEx_v8.matrix.txt\"\n",
    "gtf_file= \"/cbscratch/franco/datasets/GENCODE/gencode.v26.annotation.gtf.gz\"\n",
    "\n",
    "print(\"Reading GENCODE file\")\n",
    "gene_info = readgtf.gencode_v12(gtf_file, trim=False)"
   ]
  },
  {
   "cell_type": "code",
   "execution_count": 3,
   "id": "peaceful-stone",
   "metadata": {},
   "outputs": [],
   "source": [
    "gene_dict = defaultdict(lambda: False)\n",
    "for g in gene_info:\n",
    "    gene_dict[g.ensembl_id] = g.name\n",
    "\n",
    "gx_df = pd.read_table(gx_file, sep=\"\\t\", header=0, index_col=0)\n",
    "\n",
    "\n",
    "# new_gx_df = filter_rows(gx_df, gene_dict)\n",
    "\n",
    "# outdir = os.path.dirname(os.path.realpath(args.out_file))\n",
    "# if not os.path.exists(outdir):\n",
    "#     os.makedirs(outdir)\n",
    "# sorted_gx_df.to_csv(args.out_file, doublequote=False, sep=\"\\t\")"
   ]
  },
  {
   "cell_type": "code",
   "execution_count": 4,
   "id": "compact-signal",
   "metadata": {},
   "outputs": [],
   "source": [
    "gene_names = [gene_dict[n] for n in gx_df.index]\n",
    "gx_df.index = gene_names"
   ]
  },
  {
   "cell_type": "code",
   "execution_count": 10,
   "id": "swedish-profit",
   "metadata": {},
   "outputs": [
    {
     "data": {
      "text/plain": [
       "(53288, 15253)"
      ]
     },
     "execution_count": 10,
     "metadata": {},
     "output_type": "execute_result"
    }
   ],
   "source": [
    "ix = gx_df.index != False\n",
    "final_gene_names = list(final_gx.index)\n",
    "final_gx = gx_df[ix]"
   ]
  },
  {
   "cell_type": "code",
   "execution_count": 16,
   "id": "broadband-cotton",
   "metadata": {},
   "outputs": [],
   "source": [
    "dupl = set() # create empty set\n",
    "\n",
    "# loop trough the elements inside the list\n",
    "for e in final_gene_names:\n",
    "    if final_gene_names.count(e) > 1:\n",
    "        dupl.add(e)"
   ]
  },
  {
   "cell_type": "code",
   "execution_count": 17,
   "id": "offensive-humor",
   "metadata": {},
   "outputs": [
    {
     "data": {
      "text/plain": [
       "{'C2orf61',\n",
       " 'CYB561D2',\n",
       " 'DNAJC9-AS1',\n",
       " 'ELFN2',\n",
       " 'GOLGA8M',\n",
       " 'LINC00484',\n",
       " 'LINC01115',\n",
       " 'LINC01238',\n",
       " 'LINC01297',\n",
       " 'LINC01422',\n",
       " 'LINC01481',\n",
       " 'LINC01598',\n",
       " 'LYNX1',\n",
       " 'MAL2',\n",
       " 'MIR3179-3',\n",
       " 'MIR3180-4',\n",
       " 'PROX1-AS1',\n",
       " 'RAET1E-AS1',\n",
       " 'RGS5',\n",
       " 'SPATA13'}"
      ]
     },
     "execution_count": 17,
     "metadata": {},
     "output_type": "execute_result"
    }
   ],
   "source": [
    "dupl"
   ]
  },
  {
   "cell_type": "code",
   "execution_count": 21,
   "id": "massive-mainstream",
   "metadata": {
    "scrolled": true
   },
   "outputs": [
    {
     "data": {
      "text/plain": [
       "(33588, 15253)"
      ]
     },
     "execution_count": 21,
     "metadata": {},
     "output_type": "execute_result"
    }
   ],
   "source": [
    "final_gx_rmv_dup = final_gx[~final_gx.index.isin(dupl)]\n",
    "final_gx_rmv_dup.shape"
   ]
  },
  {
   "cell_type": "code",
   "execution_count": 28,
   "id": "right-lesson",
   "metadata": {},
   "outputs": [],
   "source": [
    "import numpy as np\n",
    "ix_zeros = np.all(final_gx_rmv_dup == 0, axis=1)\n",
    "final_gx_clean = final_gx_rmv_dup[~ix_zeros]"
   ]
  },
  {
   "cell_type": "code",
   "execution_count": 31,
   "id": "corresponding-spiritual",
   "metadata": {},
   "outputs": [
    {
     "data": {
      "text/plain": [
       "(32416, 15253)"
      ]
     },
     "execution_count": 31,
     "metadata": {},
     "output_type": "execute_result"
    }
   ],
   "source": [
    "final_gx_clean.shape"
   ]
  },
  {
   "cell_type": "code",
   "execution_count": 32,
   "id": "abstract-harmony",
   "metadata": {},
   "outputs": [],
   "source": [
    "outfile = gx_file + \".gene_names\"\n",
    "# gx_df.to_csv(outfile, sep=\"\\t\")\n",
    "final_gx_clean.to_csv(outfile, sep=\"\\t\")"
   ]
  },
  {
   "cell_type": "code",
   "execution_count": null,
   "id": "vital-shift",
   "metadata": {},
   "outputs": [],
   "source": []
  }
 ],
 "metadata": {
  "kernelspec": {
   "display_name": "pyenv37",
   "language": "python",
   "name": "pyenv37"
  },
  "language_info": {
   "codemirror_mode": {
    "name": "ipython",
    "version": 3
   },
   "file_extension": ".py",
   "mimetype": "text/x-python",
   "name": "python",
   "nbconvert_exporter": "python",
   "pygments_lexer": "ipython3",
   "version": "3.7.9"
  }
 },
 "nbformat": 4,
 "nbformat_minor": 5
}
