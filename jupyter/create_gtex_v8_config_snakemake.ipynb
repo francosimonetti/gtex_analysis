{
 "cells": [
  {
   "cell_type": "code",
   "execution_count": 15,
   "id": "weird-monitoring",
   "metadata": {},
   "outputs": [],
   "source": [
    "import os, sys\n",
    "sys.path.append(\"../\")\n",
    "import numpy as np\n",
    "import pandas as pd\n",
    "import collections\n",
    "import json\n",
    "from iotools import utils"
   ]
  },
  {
   "cell_type": "code",
   "execution_count": 16,
   "id": "lightweight-million",
   "metadata": {},
   "outputs": [],
   "source": [
    "tissue_file = '../metadata//tissue_table.txt'\n",
    "json_file = '../metadata/gtex_v8_metadata.json'\n",
    "nsample_file = '../metadata/tissue_nsamples.txt'\n",
    "\n",
    "tshorts, tfulls, tstrings = utils.read_tissues(tissue_file)\n",
    "with open(json_file) as instream:\n",
    "    gtex_meta = json.load(instream)\n",
    "tissue_colors = dict()\n",
    "tissue_names = dict()\n",
    "tissue_nsamples = dict()\n",
    "\n",
    "for tshort, tfull, tstring in zip(tshorts, tfulls, tstrings):\n",
    "    if tshort in tshorts:\n",
    "        tissue_names[tshort]  = tstring\n",
    "        tissue_colors[tshort] = \"#\" + gtex_meta[tfull][\"colorHex\"]\n",
    "        \n",
    "config = dict()\n",
    "config[\"tshorts\"] = tshorts\n",
    "for tshort, tfull, tstring in zip(tshorts, tfulls, tstrings):\n",
    "    config[tshort] = dict()\n",
    "    config[tshort][\"fullname\"] = tfull\n",
    "    config[tshort][\"name\"] = tstring\n",
    "    config[tshort][\"color\"] = \"#\" + gtex_meta[tfull][\"colorHex\"]\n",
    "        \n",
    "tissue_nsamples = dict()\n",
    "with open(nsample_file, 'r') as instream:\n",
    "    for line in instream:\n",
    "        tshort = line.strip().split()[0].strip()\n",
    "        tissue_nsamples[tshort] = int(line.strip().split()[1].strip())\n",
    "        \n",
    "brain_tissues = ['bam', 'ban', 'bca', 'bceh', 'bce', 'bco', 'bfr', 'bhi', 'bhy', 'bnu', 'bpu', 'bsp', 'bsu']\n",
    "sb006_tissues = ['haa', 'pan', 'spl', 'wb']"
   ]
  },
  {
   "cell_type": "code",
   "execution_count": 21,
   "id": "employed-circuit",
   "metadata": {
    "scrolled": true
   },
   "outputs": [],
   "source": [
    "with open(\"../metadata/gtex_v8.custom.config\", 'w') as outstream:\n",
    "    json.dump(config, outstream, indent=4)"
   ]
  },
  {
   "cell_type": "code",
   "execution_count": null,
   "id": "acceptable-assignment",
   "metadata": {},
   "outputs": [],
   "source": []
  }
 ],
 "metadata": {
  "kernelspec": {
   "display_name": "pyenv37 cbscratch",
   "language": "python",
   "name": "pyenv37_cb"
  },
  "language_info": {
   "codemirror_mode": {
    "name": "ipython",
    "version": 3
   },
   "file_extension": ".py",
   "mimetype": "text/x-python",
   "name": "python",
   "nbconvert_exporter": "python",
   "pygments_lexer": "ipython3",
   "version": "3.7.10"
  }
 },
 "nbformat": 4,
 "nbformat_minor": 5
}
